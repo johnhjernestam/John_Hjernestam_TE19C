{
 "metadata": {
  "language_info": {
   "codemirror_mode": {
    "name": "ipython",
    "version": 3
   },
   "file_extension": ".py",
   "mimetype": "text/x-python",
   "name": "python",
   "nbconvert_exporter": "python",
   "pygments_lexer": "ipython3",
   "version": 3
  },
  "orig_nbformat": 2
 },
 "nbformat": 4,
 "nbformat_minor": 2,
 "cells": [
  {
   "cell_type": "code",
   "execution_count": null,
   "metadata": {},
   "outputs": [
    {
     "output_type": "error",
     "ename": "Error",
     "evalue": "Jupyter cannot be started. Error attempting to locate jupyter: 'Kernelspec' module not installed in the selected interpreter (C:\\Users\\john.hjernestam\\AppData\\Local\\Programs\\Python\\Python38-32\\python.exe).\n Please re-install or update 'jupyter'.",
     "traceback": [
      "Error: Jupyter cannot be started. Error attempting to locate jupyter: 'Kernelspec' module not installed in the selected interpreter (C:\\Users\\john.hjernestam\\AppData\\Local\\Programs\\Python\\Python38-32\\python.exe).",
      "Please re-install or update 'jupyter'.",
      "at b.startServer (c:\\Users\\john.hjernestam\\.vscode\\extensions\\ms-python.python-2020.8.105369\\out\\client\\extension.js:48:315241)",
      "at runMicrotasks (<anonymous>)",
      "at processTicksAndRejections (internal/process/task_queues.js:85:5)",
      "at b.createServer (c:\\Users\\john.hjernestam\\.vscode\\extensions\\ms-python.python-2020.8.105369\\out\\client\\extension.js:48:314683)",
      "at connect (c:\\Users\\john.hjernestam\\.vscode\\extensions\\ms-python.python-2020.8.105369\\out\\client\\extension.js:48:442783)",
      "at f.ensureConnectionAndNotebookImpl (c:\\Users\\john.hjernestam\\.vscode\\extensions\\ms-python.python-2020.8.105369\\out\\client\\extension.js:24:585243)",
      "at f.ensureConnectionAndNotebook (c:\\Users\\john.hjernestam\\.vscode\\extensions\\ms-python.python-2020.8.105369\\out\\client\\extension.js:24:584545)",
      "at f.clearResult (c:\\Users\\john.hjernestam\\.vscode\\extensions\\ms-python.python-2020.8.105369\\out\\client\\extension.js:24:580347)",
      "at f.reexecuteCell (c:\\Users\\john.hjernestam\\.vscode\\extensions\\ms-python.python-2020.8.105369\\out\\client\\extension.js:9:123814)",
      "at f.reexecuteCells (c:\\Users\\john.hjernestam\\.vscode\\extensions\\ms-python.python-2020.8.105369\\out\\client\\extension.js:9:120337)"
     ]
    }
   ],
   "source": [
    "print(\"hej\")"
   ]
  },
  {
   "cell_type": "code",
   "execution_count": null,
   "metadata": {},
   "outputs": [],
   "source": []
  }
 ]
}